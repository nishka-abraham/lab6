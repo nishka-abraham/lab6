{
 "cells": [
  {
   "cell_type": "code",
   "execution_count": null,
   "metadata": {},
   "outputs": [
    {
     "name": "stdin",
     "output_type": "stream",
     "text": [
      "What is your name? J\n"
     ]
    }
   ],
   "source": [
    "name = input(\"What is your name?\")\n",
    "age = int(input(\"How old are you?\"))\n",
    "food = input(\"What is your favorite food?\")\n",
    "print(\"Your name is\", name, \"and you are\", age, \"years old\")\n",
    "print(name,\"'s favorite food is\", food, \"and in 5 years you will be\", age+5, \"years old\")"
   ]
  },
  {
   "cell_type": "code",
   "execution_count": null,
   "metadata": {},
   "outputs": [],
   "source": []
  }
 ],
 "metadata": {
  "kernelspec": {
   "display_name": "Python 3",
   "language": "python",
   "name": "python3"
  },
  "language_info": {
   "codemirror_mode": {
    "name": "ipython",
    "version": 3
   },
   "file_extension": ".py",
   "mimetype": "text/x-python",
   "name": "python",
   "nbconvert_exporter": "python",
   "pygments_lexer": "ipython3",
   "version": "3.8.3"
  }
 },
 "nbformat": 4,
 "nbformat_minor": 4
}
